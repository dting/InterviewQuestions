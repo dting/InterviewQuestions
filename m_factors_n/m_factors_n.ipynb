{
 "cells": [
  {
   "cell_type": "markdown",
   "metadata": {},
   "source": [
    "# Print out m factors of n\n",
    "\n",
    "If $n = 12$ and $m = 3$, we should see the following output:\n",
    "\n",
    "<pre>\n",
    "(1, 1, 12)\n",
    "(1, 2, 6)\n",
    "(1, 3, 4)\n",
    "(2, 2, 3)\n",
    "</pre>"
   ]
  },
  {
   "cell_type": "code",
   "execution_count": 1,
   "metadata": {
    "collapsed": false
   },
   "outputs": [],
   "source": [
    "def m_factors(n, m, prefix=None):\n",
    "    if not prefix: \n",
    "        prefix = ()\n",
    "    if m == 1: \n",
    "        return [prefix + (n,)]\n",
    "    result = []\n",
    "    for i in range(prefix[-1] if prefix else 1, int(n**0.5)+1):\n",
    "        if not n % i:\n",
    "            result += m_factors(n//i, m-1, prefix+(i,))\n",
    "    return result"
   ]
  },
  {
   "cell_type": "code",
   "execution_count": 2,
   "metadata": {
    "collapsed": true
   },
   "outputs": [],
   "source": [
    "from math import log10 as log"
   ]
  },
  {
   "cell_type": "code",
   "execution_count": 3,
   "metadata": {
    "collapsed": false
   },
   "outputs": [
    {
     "name": "stdout",
     "output_type": "stream",
     "text": [
      "1  1  12\n",
      "1  2  6 \n",
      "1  3  4 \n",
      "2  2  3 \n"
     ]
    }
   ],
   "source": [
    "n = 12\n",
    "m = 3\n",
    "template = \" \".join([\"{{: <{}}}\".format(int(log(n)+1))] * m)\n",
    "\n",
    "for r in m_factors(n, m):\n",
    "    print(template.format(*r))"
   ]
  },
  {
   "cell_type": "code",
   "execution_count": 4,
   "metadata": {
    "collapsed": false
   },
   "outputs": [
    {
     "name": "stdout",
     "output_type": "stream",
     "text": [
      "1   1   1   1   1   100\n",
      "1   1   1   1   2   50 \n",
      "1   1   1   1   4   25 \n",
      "1   1   1   1   5   20 \n",
      "1   1   1   1   10  10 \n",
      "1   1   1   2   2   25 \n",
      "1   1   1   2   5   10 \n",
      "1   1   1   4   5   5  \n",
      "1   1   2   2   5   5  \n"
     ]
    }
   ],
   "source": [
    "n = 100\n",
    "m = 6\n",
    "template = \" \".join([\"{{: <{}}}\".format(int(log(n)+1))] * m)\n",
    "\n",
    "for r in m_factors(n, m):\n",
    "    print(template.format(*r))"
   ]
  }
 ],
 "metadata": {
  "kernelspec": {
   "display_name": "Python 3",
   "language": "python",
   "name": "python3"
  },
  "language_info": {
   "codemirror_mode": {
    "name": "ipython",
    "version": 3
   },
   "file_extension": ".py",
   "mimetype": "text/x-python",
   "name": "python",
   "nbconvert_exporter": "python",
   "pygments_lexer": "ipython3",
   "version": "3.4.3"
  }
 },
 "nbformat": 4,
 "nbformat_minor": 0
}
