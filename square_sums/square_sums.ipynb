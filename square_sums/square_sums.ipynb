{
 "cells": [
  {
   "cell_type": "markdown",
   "metadata": {
    "collapsed": true
   },
   "source": [
    "# Sum of Squares\n",
    "\n",
    "Find and output the given number's shortest square sum.\n",
    "\n",
    "For example: \n",
    "\n",
    "    12 = 2^2 + 2^2 + 2^2 \n",
    "    \n",
    "not: \n",
    "\n",
    "    12 = 3^2 + 1^2 + 1^2 + 1^2\n",
    "\n",
    "Output should be the list of the squares: `{2 2 2}`"
   ]
  },
  {
   "cell_type": "code",
   "execution_count": 1,
   "metadata": {
    "collapsed": true
   },
   "outputs": [],
   "source": [
    "def square_sum_memoized(n):\n",
    "    import functools\n",
    "\n",
    "    def memoize(fn):\n",
    "        cache = fn.cache = {}\n",
    "        @functools.wraps(fn)\n",
    "        def memoizer(arg):\n",
    "            if arg not in cache:\n",
    "                cache[arg] = fn(arg)\n",
    "            return cache[arg]\n",
    "        return memoizer\n",
    "\n",
    "    @memoize\n",
    "    def _ss(n):\n",
    "        sqrt = int(n**0.5)\n",
    "        if sqrt**2 == n:\n",
    "            return (sqrt,)\n",
    "        mn = (1,) * min(n, 5)\n",
    "        for i in range(1, sqrt+1):\n",
    "            s = (i,) + _ss(n-i**2)\n",
    "            if len(s) < len(mn):\n",
    "                mn = s\n",
    "            if len(mn) == 2:\n",
    "                break\n",
    "        return mn\n",
    "    \n",
    "    for i in range(1, n+1):\n",
    "        _ss(i)\n",
    "        \n",
    "    return _ss(n)"
   ]
  },
  {
   "cell_type": "code",
   "execution_count": 2,
   "metadata": {
    "collapsed": false
   },
   "outputs": [
    {
     "name": "stdout",
     "output_type": "stream",
     "text": [
      "1 loops, best of 3: 21.5 s per loop\n"
     ]
    }
   ],
   "source": [
    "%timeit square_sum_memoized(10**5)"
   ]
  },
  {
   "cell_type": "code",
   "execution_count": 3,
   "metadata": {
    "collapsed": false
   },
   "outputs": [
    {
     "name": "stdout",
     "output_type": "stream",
     "text": [
      "1 (1,)\n",
      "2 (1, 1)\n",
      "3 (1, 1, 1)\n",
      "4 (2,)\n",
      "5 (1, 2)\n",
      "6 (1, 1, 2)\n",
      "7 (1, 1, 1, 2)\n",
      "8 (2, 2)\n",
      "9 (3,)\n",
      "10 (1, 3)\n",
      "11 (1, 1, 3)\n",
      "12 (2, 2, 2)\n",
      "13 (2, 3)\n",
      "14 (1, 2, 3)\n",
      "15 (1, 1, 2, 3)\n",
      "16 (4,)\n",
      "17 (1, 4)\n",
      "18 (3, 3)\n",
      "19 (1, 3, 3)\n",
      "20 (2, 4)\n",
      "21 (1, 2, 4)\n",
      "22 (2, 3, 3)\n",
      "23 (1, 2, 3, 3)\n",
      "24 (2, 2, 4)\n",
      "25 (5,)\n"
     ]
    }
   ],
   "source": [
    "for n in range(1, 26):\n",
    "    print(n, square_sum_memoized(n))"
   ]
  },
  {
   "cell_type": "code",
   "execution_count": 4,
   "metadata": {
    "collapsed": true
   },
   "outputs": [],
   "source": [
    "def square_sum_arrays(n):\n",
    "    \n",
    "    def _ss_length(x):\n",
    "        if not lengths[x]:\n",
    "            sqrt = int(x**0.5)\n",
    "            if sqrt**2 == x:\n",
    "                lengths[x] = 1\n",
    "                roots[x] = (sqrt,)\n",
    "            elif lengths[x-1] == 1:\n",
    "                lengths[x] = 2\n",
    "                roots[x] = (1,) + roots[x-1]\n",
    "            else:\n",
    "                mn = x\n",
    "                mnii = 1\n",
    "                for i in range(1, sqrt+1):\n",
    "                    ii = i**2\n",
    "                    length = 1 + _ss_length(x-ii)\n",
    "                    if length < mn:\n",
    "                        mn = length\n",
    "                        mnii = ii\n",
    "                    if mn == 2:\n",
    "                        break\n",
    "                lengths[x] = mn\n",
    "                roots[x] = roots[mnii] + roots[x-mnii]\n",
    "        return lengths[x]\n",
    "    \n",
    "    roots = [None] * (n+1)\n",
    "    lengths = [None] * (n+1)\n",
    "    \n",
    "    for i in range(1, n+1):\n",
    "        _ss_length(i)\n",
    "\n",
    "    return roots[n]"
   ]
  },
  {
   "cell_type": "code",
   "execution_count": 5,
   "metadata": {
    "collapsed": false
   },
   "outputs": [
    {
     "name": "stdout",
     "output_type": "stream",
     "text": [
      "1 loops, best of 3: 16.4 s per loop\n"
     ]
    }
   ],
   "source": [
    "%timeit square_sum_arrays(10**5)"
   ]
  },
  {
   "cell_type": "code",
   "execution_count": 6,
   "metadata": {
    "collapsed": false
   },
   "outputs": [
    {
     "name": "stdout",
     "output_type": "stream",
     "text": [
      "1 (1,)\n",
      "2 (1, 1)\n",
      "3 (1, 1, 1)\n",
      "4 (2,)\n",
      "5 (1, 2)\n",
      "6 (1, 1, 2)\n",
      "7 (1, 1, 1, 2)\n",
      "8 (2, 2)\n",
      "9 (3,)\n",
      "10 (1, 3)\n",
      "11 (1, 1, 3)\n",
      "12 (2, 2, 2)\n",
      "13 (2, 3)\n",
      "14 (1, 2, 3)\n",
      "15 (1, 1, 2, 3)\n",
      "16 (4,)\n",
      "17 (1, 4)\n",
      "18 (3, 3)\n",
      "19 (1, 3, 3)\n",
      "20 (2, 4)\n",
      "21 (1, 2, 4)\n",
      "22 (2, 3, 3)\n",
      "23 (1, 2, 3, 3)\n",
      "24 (2, 2, 4)\n",
      "25 (5,)\n"
     ]
    }
   ],
   "source": [
    "for n in range(1, 26):\n",
    "    print(n, square_sum_arrays(n))"
   ]
  }
 ],
 "metadata": {
  "kernelspec": {
   "display_name": "Python 3",
   "language": "python",
   "name": "python3"
  },
  "language_info": {
   "codemirror_mode": {
    "name": "ipython",
    "version": 3
   },
   "file_extension": ".py",
   "mimetype": "text/x-python",
   "name": "python",
   "nbconvert_exporter": "python",
   "pygments_lexer": "ipython3",
   "version": "3.4.3"
  }
 },
 "nbformat": 4,
 "nbformat_minor": 0
}
